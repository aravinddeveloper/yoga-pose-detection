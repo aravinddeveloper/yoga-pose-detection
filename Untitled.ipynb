{
 "cells": [
  {
   "cell_type": "code",
   "execution_count": 2,
   "id": "de2a9167-f6cf-4583-9f78-af2d3152c565",
   "metadata": {},
   "outputs": [],
   "source": [
    "import boto3\n",
    "import re\n",
    "import sagemaker\n",
    "from sagemaker import get_execution_role\n",
    "role = get_execution_role()\n",
    "from sagemaker.pytorch import PyTorch\n",
    "from time import gmtime, strftime\n",
    "from sagemaker.pytorch.model import PyTorchModel"
   ]
  },
  {
   "cell_type": "code",
   "execution_count": 3,
   "id": "bb65e655-8e1a-4467-a298-698f325700ec",
   "metadata": {
    "tags": []
   },
   "outputs": [],
   "source": [
    "#S3 - path variables\n",
    "train_uri = \"s3://aravind-aws-ml-sagemaker/yogapose/dataset/train/\"\n",
    "val_uri = \"s3://aravind-aws-ml-sagemaker/yogapose/dataset/val/\"\n",
    "model_dir = \"s3://aravind-aws-ml-sagemaker/yogapose/model/\"\n",
    "output_data_dir = \"s3://aravind-aws-ml-sagemaker/yogapose/checkpoints/\"\n",
    "\n",
    "#Env variables\n",
    "env_variables = {\n",
    "    \"SM_NUM_GPUS\":\"1\",\n",
    "    \"SM_MODEL_DIR\":\"/opt/ml/model/model/\",\n",
    "    \"SM_OUTPUT_DATA_DIR\":\"/opt/ml/model/output/\",\n",
    "    \"SM_CHANNEL_TRAIN\":\"/opt/ml/model/train/\",\n",
    "    \"SM_CHANNEL_VAL\":\"/opt/ml/model/val/\"\n",
    "}\n",
    "\n",
    "#data channels\n",
    "data_channel = {\n",
    "    \"train\": train_uri,\n",
    "    \"val\" : val_uri\n",
    "}\n",
    "\n",
    "#hyperparameters\n",
    "hyperparameters = {\"epochs\":10,\"batch-size\":4}"
   ]
  },
  {
   "cell_type": "code",
   "execution_count": 4,
   "id": "b74290f2-2535-4574-894d-6034f6c99c85",
   "metadata": {
    "tags": []
   },
   "outputs": [],
   "source": [
    "pt_estimator = PyTorch(\n",
    "    entry_point=\"train.py\",\n",
    "    role=get_execution_role(),\n",
    "    source_dir=\"scripts\",\n",
    "    framework_version=\"1.8.0\",\n",
    "    py_version=\"py3\",\n",
    "    instance_count=1,\n",
    "    instance_type=\"ml.c4.2xlarge\",\n",
    "    use_spot_instances=True,\n",
    "    checkpoint_s3_uri=\"s3://aravind-aws-ml-sagemaker/yogapose/checkpoints/\",\n",
    "    checkpoint_local_path=\"/opt/ml/checkpoints/\",\n",
    "    max_run=3600,\n",
    "    max_wait=3800,\n",
    "    environment=env_variables,\n",
    "    hyperparameters=hyperparameters\n",
    ")"
   ]
  },
  {
   "cell_type": "code",
   "execution_count": 5,
   "id": "b2973d62-a217-4ec7-aeae-0bf43c1c2393",
   "metadata": {
    "tags": []
   },
   "outputs": [
    {
     "name": "stdout",
     "output_type": "stream",
     "text": [
      "2023-01-28 13:14:57 Starting - Starting the training job...\n",
      "2023-01-28 13:15:15 Starting - Preparing the instances for trainingProfilerReport-1674911697: InProgress\n",
      "............\n",
      "2023-01-28 13:17:13 Downloading - Downloading input data...\n",
      "2023-01-28 13:17:55 Training - Training image download completed. Training in progress...\u001b[34mbash: cannot set terminal process group (-1): Inappropriate ioctl for device\u001b[0m\n",
      "\u001b[34mbash: no job control in this shell\u001b[0m\n",
      "\u001b[34m2023-01-28 13:18:06,162 sagemaker-training-toolkit INFO     Imported framework sagemaker_pytorch_container.training\u001b[0m\n",
      "\u001b[34m2023-01-28 13:18:06,164 sagemaker-training-toolkit INFO     No GPUs detected (normal if no gpus installed)\u001b[0m\n",
      "\u001b[34m2023-01-28 13:18:06,175 sagemaker_pytorch_container.training INFO     Block until all host DNS lookups succeed.\u001b[0m\n",
      "\u001b[34m2023-01-28 13:18:06,177 sagemaker_pytorch_container.training INFO     Invoking user training script.\u001b[0m\n",
      "\u001b[34m2023-01-28 13:18:06,329 sagemaker-training-toolkit INFO     No GPUs detected (normal if no gpus installed)\u001b[0m\n",
      "\u001b[34m2023-01-28 13:18:06,341 sagemaker-training-toolkit INFO     No GPUs detected (normal if no gpus installed)\u001b[0m\n",
      "\u001b[34m2023-01-28 13:18:06,354 sagemaker-training-toolkit INFO     No GPUs detected (normal if no gpus installed)\u001b[0m\n",
      "\u001b[34m2023-01-28 13:18:06,365 sagemaker-training-toolkit INFO     Invoking user script\u001b[0m\n",
      "\u001b[34mTraining Env:\u001b[0m\n",
      "\u001b[34m{\n",
      "    \"additional_framework_parameters\": {},\n",
      "    \"channel_input_dirs\": {\n",
      "        \"train\": \"/opt/ml/input/data/train\",\n",
      "        \"val\": \"/opt/ml/input/data/val\"\n",
      "    },\n",
      "    \"current_host\": \"algo-1\",\n",
      "    \"framework_module\": \"sagemaker_pytorch_container.training:main\",\n",
      "    \"hosts\": [\n",
      "        \"algo-1\"\n",
      "    ],\n",
      "    \"hyperparameters\": {\n",
      "        \"batch-size\": 4,\n",
      "        \"epochs\": 10\n",
      "    },\n",
      "    \"input_config_dir\": \"/opt/ml/input/config\",\n",
      "    \"input_data_config\": {\n",
      "        \"train\": {\n",
      "            \"TrainingInputMode\": \"File\",\n",
      "            \"S3DistributionType\": \"FullyReplicated\",\n",
      "            \"RecordWrapperType\": \"None\"\n",
      "        },\n",
      "        \"val\": {\n",
      "            \"TrainingInputMode\": \"File\",\n",
      "            \"S3DistributionType\": \"FullyReplicated\",\n",
      "            \"RecordWrapperType\": \"None\"\n",
      "        }\n",
      "    },\n",
      "    \"input_dir\": \"/opt/ml/input\",\n",
      "    \"is_master\": true,\n",
      "    \"job_name\": \"pytorch-training-2023-01-28-13-14-57-320\",\n",
      "    \"log_level\": 20,\n",
      "    \"master_hostname\": \"algo-1\",\n",
      "    \"model_dir\": \"/opt/ml/model\",\n",
      "    \"module_dir\": \"s3://sagemaker-us-east-1-525122622846/pytorch-training-2023-01-28-13-14-57-320/source/sourcedir.tar.gz\",\n",
      "    \"module_name\": \"train\",\n",
      "    \"network_interface_name\": \"eth0\",\n",
      "    \"num_cpus\": 8,\n",
      "    \"num_gpus\": 0,\n",
      "    \"output_data_dir\": \"/opt/ml/output/data\",\n",
      "    \"output_dir\": \"/opt/ml/output\",\n",
      "    \"output_intermediate_dir\": \"/opt/ml/output/intermediate\",\n",
      "    \"resource_config\": {\n",
      "        \"current_host\": \"algo-1\",\n",
      "        \"current_instance_type\": \"ml.c4.2xlarge\",\n",
      "        \"current_group_name\": \"homogeneousCluster\",\n",
      "        \"hosts\": [\n",
      "            \"algo-1\"\n",
      "        ],\n",
      "        \"instance_groups\": [\n",
      "            {\n",
      "                \"instance_group_name\": \"homogeneousCluster\",\n",
      "                \"instance_type\": \"ml.c4.2xlarge\",\n",
      "                \"hosts\": [\n",
      "                    \"algo-1\"\n",
      "                ]\n",
      "            }\n",
      "        ],\n",
      "        \"network_interface_name\": \"eth0\"\n",
      "    },\n",
      "    \"user_entry_point\": \"train.py\"\u001b[0m\n",
      "\u001b[34m}\u001b[0m\n",
      "\u001b[34mEnvironment variables:\u001b[0m\n",
      "\u001b[34mSM_HOSTS=[\"algo-1\"]\u001b[0m\n",
      "\u001b[34mSM_NETWORK_INTERFACE_NAME=eth0\u001b[0m\n",
      "\u001b[34mSM_HPS={\"batch-size\":4,\"epochs\":10}\u001b[0m\n",
      "\u001b[34mSM_USER_ENTRY_POINT=train.py\u001b[0m\n",
      "\u001b[34mSM_FRAMEWORK_PARAMS={}\u001b[0m\n",
      "\u001b[34mSM_RESOURCE_CONFIG={\"current_group_name\":\"homogeneousCluster\",\"current_host\":\"algo-1\",\"current_instance_type\":\"ml.c4.2xlarge\",\"hosts\":[\"algo-1\"],\"instance_groups\":[{\"hosts\":[\"algo-1\"],\"instance_group_name\":\"homogeneousCluster\",\"instance_type\":\"ml.c4.2xlarge\"}],\"network_interface_name\":\"eth0\"}\u001b[0m\n",
      "\u001b[34mSM_INPUT_DATA_CONFIG={\"train\":{\"RecordWrapperType\":\"None\",\"S3DistributionType\":\"FullyReplicated\",\"TrainingInputMode\":\"File\"},\"val\":{\"RecordWrapperType\":\"None\",\"S3DistributionType\":\"FullyReplicated\",\"TrainingInputMode\":\"File\"}}\u001b[0m\n",
      "\u001b[34mSM_OUTPUT_DATA_DIR=/opt/ml/output/data\u001b[0m\n",
      "\u001b[34mSM_CHANNELS=[\"train\",\"val\"]\u001b[0m\n",
      "\u001b[34mSM_CURRENT_HOST=algo-1\u001b[0m\n",
      "\u001b[34mSM_MODULE_NAME=train\u001b[0m\n",
      "\u001b[34mSM_LOG_LEVEL=20\u001b[0m\n",
      "\u001b[34mSM_FRAMEWORK_MODULE=sagemaker_pytorch_container.training:main\u001b[0m\n",
      "\u001b[34mSM_INPUT_DIR=/opt/ml/input\u001b[0m\n",
      "\u001b[34mSM_INPUT_CONFIG_DIR=/opt/ml/input/config\u001b[0m\n",
      "\u001b[34mSM_OUTPUT_DIR=/opt/ml/output\u001b[0m\n",
      "\u001b[34mSM_NUM_CPUS=8\u001b[0m\n",
      "\u001b[34mSM_NUM_GPUS=0\u001b[0m\n",
      "\u001b[34mSM_MODEL_DIR=/opt/ml/model\u001b[0m\n",
      "\u001b[34mSM_MODULE_DIR=s3://sagemaker-us-east-1-525122622846/pytorch-training-2023-01-28-13-14-57-320/source/sourcedir.tar.gz\u001b[0m\n",
      "\u001b[34mSM_TRAINING_ENV={\"additional_framework_parameters\":{},\"channel_input_dirs\":{\"train\":\"/opt/ml/input/data/train\",\"val\":\"/opt/ml/input/data/val\"},\"current_host\":\"algo-1\",\"framework_module\":\"sagemaker_pytorch_container.training:main\",\"hosts\":[\"algo-1\"],\"hyperparameters\":{\"batch-size\":4,\"epochs\":10},\"input_config_dir\":\"/opt/ml/input/config\",\"input_data_config\":{\"train\":{\"RecordWrapperType\":\"None\",\"S3DistributionType\":\"FullyReplicated\",\"TrainingInputMode\":\"File\"},\"val\":{\"RecordWrapperType\":\"None\",\"S3DistributionType\":\"FullyReplicated\",\"TrainingInputMode\":\"File\"}},\"input_dir\":\"/opt/ml/input\",\"is_master\":true,\"job_name\":\"pytorch-training-2023-01-28-13-14-57-320\",\"log_level\":20,\"master_hostname\":\"algo-1\",\"model_dir\":\"/opt/ml/model\",\"module_dir\":\"s3://sagemaker-us-east-1-525122622846/pytorch-training-2023-01-28-13-14-57-320/source/sourcedir.tar.gz\",\"module_name\":\"train\",\"network_interface_name\":\"eth0\",\"num_cpus\":8,\"num_gpus\":0,\"output_data_dir\":\"/opt/ml/output/data\",\"output_dir\":\"/opt/ml/output\",\"output_intermediate_dir\":\"/opt/ml/output/intermediate\",\"resource_config\":{\"current_group_name\":\"homogeneousCluster\",\"current_host\":\"algo-1\",\"current_instance_type\":\"ml.c4.2xlarge\",\"hosts\":[\"algo-1\"],\"instance_groups\":[{\"hosts\":[\"algo-1\"],\"instance_group_name\":\"homogeneousCluster\",\"instance_type\":\"ml.c4.2xlarge\"}],\"network_interface_name\":\"eth0\"},\"user_entry_point\":\"train.py\"}\u001b[0m\n",
      "\u001b[34mSM_USER_ARGS=[\"--batch-size\",\"4\",\"--epochs\",\"10\"]\u001b[0m\n",
      "\u001b[34mSM_OUTPUT_INTERMEDIATE_DIR=/opt/ml/output/intermediate\u001b[0m\n",
      "\u001b[34mSM_CHANNEL_TRAIN=/opt/ml/input/data/train\u001b[0m\n",
      "\u001b[34mSM_CHANNEL_VAL=/opt/ml/input/data/val\u001b[0m\n",
      "\u001b[34mSM_HP_BATCH-SIZE=4\u001b[0m\n",
      "\u001b[34mSM_HP_EPOCHS=10\u001b[0m\n",
      "\u001b[34mPYTHONPATH=/opt/ml/code:/opt/conda/bin:/opt/conda/lib/python36.zip:/opt/conda/lib/python3.6:/opt/conda/lib/python3.6/lib-dynload:/opt/conda/lib/python3.6/site-packages\u001b[0m\n",
      "\u001b[34mInvoking script with the following command:\u001b[0m\n",
      "\u001b[34m/opt/conda/bin/python3.6 train.py --batch-size 4 --epochs 10\u001b[0m\n",
      "\u001b[34m/opt/ml/input/data/train /opt/ml/input/data/val\u001b[0m\n",
      "\u001b[34m['downdog', 'goddess', 'plank', 'tree', 'warrior2']\u001b[0m\n",
      "\u001b[34m{0: 'downdog', 1: 'goddess', 2: 'plank', 3: 'tree', 4: 'warrior2'}\u001b[0m\n",
      "\u001b[34mTrainable paramaters - 14714688 :: Frozen parameters - 13110789 :: Total parameters - 27825477\u001b[0m\n",
      "\u001b[34mEpoch 0/9\u001b[0m\n",
      "\u001b[34m----------\u001b[0m\n",
      "\u001b[34m[2023-01-28 13:18:11.077 algo-1:27 INFO utils.py:27] RULE_JOB_STOP_SIGNAL_FILENAME: None\u001b[0m\n",
      "\u001b[34m[2023-01-28 13:18:11.270 algo-1:27 INFO profiler_config_parser.py:102] User has disabled profiler.\u001b[0m\n",
      "\u001b[34mtrain Loss: 1.5278 Acc: 0.3092\u001b[0m\n",
      "\u001b[34mval Loss: 1.0527 Acc: 0.5761\u001b[0m\n",
      "\u001b[34mEpoch 1/9\u001b[0m\n",
      "\u001b[34m----------\u001b[0m\n",
      "\u001b[34mtrain Loss: 1.3262 Acc: 0.4360\u001b[0m\n",
      "\u001b[34mval Loss: 0.7251 Acc: 0.7174\u001b[0m\n",
      "\u001b[34mEpoch 2/9\u001b[0m\n",
      "\u001b[34m----------\u001b[0m\n",
      "\u001b[34mtrain Loss: 1.1668 Acc: 0.5193\u001b[0m\n",
      "\u001b[34mval Loss: 0.7182 Acc: 0.7283\u001b[0m\n",
      "\u001b[34mEpoch 3/9\u001b[0m\n",
      "\u001b[34m----------\u001b[0m\n",
      "\u001b[34mtrain Loss: 1.0434 Acc: 0.5737\u001b[0m\n",
      "\u001b[34mval Loss: 0.4955 Acc: 0.8152\u001b[0m\n",
      "\u001b[34mEpoch 4/9\u001b[0m\n",
      "\u001b[34m----------\u001b[0m\n",
      "\u001b[34mtrain Loss: 0.9991 Acc: 0.5845\u001b[0m\n",
      "\u001b[34mval Loss: 0.7332 Acc: 0.6630\u001b[0m\n",
      "\u001b[34mEpoch 5/9\u001b[0m\n",
      "\u001b[34m----------\u001b[0m\n",
      "\u001b[34mtrain Loss: 0.8873 Acc: 0.6570\u001b[0m\n",
      "\u001b[34mval Loss: 0.5400 Acc: 0.7500\u001b[0m\n",
      "\u001b[34mEpoch 6/9\u001b[0m\n",
      "\u001b[34m----------\u001b[0m\n",
      "\u001b[34mtrain Loss: 0.9206 Acc: 0.6570\u001b[0m\n",
      "\u001b[34mval Loss: 0.4848 Acc: 0.7826\u001b[0m\n",
      "\u001b[34mEpoch 7/9\u001b[0m\n",
      "\u001b[34m----------\u001b[0m\n",
      "\u001b[34mtrain Loss: 0.8796 Acc: 0.6546\u001b[0m\n",
      "\u001b[34mval Loss: 0.4452 Acc: 0.7935\u001b[0m\n",
      "\u001b[34mEpoch 8/9\u001b[0m\n",
      "\u001b[34m----------\u001b[0m\n",
      "\u001b[34mtrain Loss: 0.7721 Acc: 0.6932\u001b[0m\n",
      "\u001b[34mval Loss: 0.4416 Acc: 0.8043\u001b[0m\n",
      "\u001b[34mEpoch 9/9\u001b[0m\n",
      "\u001b[34m----------\u001b[0m\n",
      "\u001b[34mtrain Loss: 0.7516 Acc: 0.7138\u001b[0m\n",
      "\u001b[34mval Loss: 0.4108 Acc: 0.7935\u001b[0m\n",
      "\u001b[34mTraining complete in 20m 20s\u001b[0m\n",
      "\u001b[34mBest val Acc: 0.815217\u001b[0m\n",
      "\u001b[34mSaving the model\u001b[0m\n",
      "\u001b[34mDownloading: \"https://download.pytorch.org/models/vgg16-397923af.pth\" to /root/.cache/torch/hub/checkpoints/vgg16-397923af.pth\u001b[0m\n",
      "\u001b[34m#015  0%|          | 0.00/528M [00:00<?, ?B/s]#015  4%|▍         | 21.6M/528M [00:00<00:02, 226MB/s]#015  8%|▊         | 44.4M/528M [00:00<00:02, 234MB/s]#015 13%|█▎        | 67.3M/528M [00:00<00:02, 237MB/s]#015 17%|█▋        | 90.0M/528M [00:00<00:01, 237MB/s]#015 21%|██▏       | 113M/528M [00:00<00:01, 238MB/s] #015 26%|██▌       | 135M/528M [00:00<00:01, 235MB/s]#015 30%|██▉       | 158M/528M [00:00<00:01, 237MB/s]#015 34%|███▍      | 181M/528M [00:00<00:01, 237MB/s]#015 39%|███▊      | 204M/528M [00:00<00:01, 238MB/s]#015 43%|████▎     | 227M/528M [00:01<00:01, 239MB/s]#015 47%|████▋     | 250M/528M [00:01<00:01, 239MB/s]#015 52%|█████▏    | 272M/528M [00:01<00:01, 239MB/s]#015 56%|█████▌    | 295M/528M [00:01<00:01, 239MB/s]#015 60%|██████    | 318M/528M [00:01<00:00, 239MB/s]#015 65%|██████▍   | 341M/528M [00:01<00:00, 239MB/s]#015 69%|██████▉   | 364M/528M [00:01<00:00, 237MB/s]#015 73%|███████▎  | 386M/528M [00:01<00:00, 236MB/s]#015 77%|███████▋  | 409M/528M [00:01<00:00, 235MB/s]#015 82%|████████▏ | 431M/528M [00:01<00:00, 234MB/s]#015 86%|████████▌ | 454M/528M [00:02<00:00, 234MB/s]#015 90%|█████████ | 476M/528M [00:02<00:00, 234MB/s]#015 94%|█████████▍| 498M/528M [00:02<00:00, 233MB/s]#015 99%|█████████▊| 521M/528M [00:02<00:00, 233MB/s]#015100%|██████████| 528M/528M [00:02<00:00, 236MB/s]\u001b[0m\n",
      "\u001b[34m2023-01-28 13:38:31,504 sagemaker-training-toolkit INFO     Reporting training SUCCESS\u001b[0m\n",
      "\n",
      "2023-01-28 13:38:40 Uploading - Uploading generated training modelProfilerReport-1674911697: NoIssuesFound\n",
      "\n",
      "2023-01-28 13:39:42 Completed - Training job completed\n",
      "Training seconds: 1358\n",
      "Billable seconds: 764\n",
      "Managed Spot Training savings: 43.7%\n"
     ]
    }
   ],
   "source": [
    "pt_estimator.fit(inputs=data_channel)"
   ]
  },
  {
   "cell_type": "markdown",
   "id": "d41705c3-8895-484d-a2e9-0700f4f5782e",
   "metadata": {
    "tags": []
   },
   "source": [
    "### Realtime Inference"
   ]
  },
  {
   "cell_type": "code",
   "execution_count": 6,
   "id": "450cd87a-fba0-4852-81fb-c89fae6e91ca",
   "metadata": {
    "tags": []
   },
   "outputs": [
    {
     "name": "stdout",
     "output_type": "stream",
     "text": [
      "--------!"
     ]
    },
    {
     "data": {
      "text/plain": [
       "<sagemaker.pytorch.model.PyTorchPredictor at 0x7f274cb2f350>"
      ]
     },
     "execution_count": 6,
     "metadata": {},
     "output_type": "execute_result"
    }
   ],
   "source": [
    "pt_estimator.deploy(initial_instance_count=1, instance_type=\"ml.t2.medium\")"
   ]
  },
  {
   "cell_type": "markdown",
   "id": "e136e104-eaf2-4a18-a886-f2edd8f98289",
   "metadata": {
    "tags": []
   },
   "source": [
    "### Serverless Inference"
   ]
  },
  {
   "cell_type": "code",
   "execution_count": 26,
   "id": "30879fd3-643c-467d-945a-c0ce338f0d81",
   "metadata": {
    "tags": []
   },
   "outputs": [
    {
     "data": {
      "text/plain": [
       "'s3://sagemaker-us-east-1-525122622846/pytorch-training-2023-01-20-07-40-36-395/output/model.tar.gz'"
      ]
     },
     "execution_count": 26,
     "metadata": {},
     "output_type": "execute_result"
    }
   ],
   "source": [
    "pt_estimator.model_data"
   ]
  },
  {
   "cell_type": "code",
   "execution_count": 33,
   "id": "250f403c-c88c-498c-99f1-a0f845daebd3",
   "metadata": {
    "tags": []
   },
   "outputs": [
    {
     "name": "stdout",
     "output_type": "stream",
     "text": [
      "---------!"
     ]
    },
    {
     "data": {
      "text/plain": [
       "<sagemaker.pytorch.model.PyTorchPredictor at 0x7f86b1a0a5d0>"
      ]
     },
     "execution_count": 33,
     "metadata": {},
     "output_type": "execute_result"
    }
   ],
   "source": [
    "# model = PyTorchModel(model_data=pt_estimator.model_data,\n",
    "#                      role=role,\n",
    "#                      entry_point=\"inference.py\",\n",
    "#                      framework_version=\"1.8.0\",\n",
    "#                      py_version=\"py3\")\n",
    "serverless_config = sagemaker.serverless.serverless_inference_config.ServerlessInferenceConfig(memory_size_in_mb=2048, \n",
    "                                                                                               max_concurrency=2)\n",
    "pt_estimator.deploy(serverless_inference_config=serverless_config)"
   ]
  },
  {
   "cell_type": "markdown",
   "id": "df7d0462-30bb-4d6b-bd1f-36696ce523b9",
   "metadata": {
    "tags": []
   },
   "source": [
    "### Prediction"
   ]
  },
  {
   "cell_type": "code",
   "execution_count": 7,
   "id": "dbf784f4-b06f-497b-ad5a-7f4c9958e467",
   "metadata": {
    "tags": []
   },
   "outputs": [],
   "source": [
    "inference_client = boto3.Session().client(service_name=\"runtime.sagemaker\")"
   ]
  },
  {
   "cell_type": "code",
   "execution_count": 8,
   "id": "7327ae38-5821-43fc-b354-a1256650f7d6",
   "metadata": {
    "tags": []
   },
   "outputs": [
    {
     "data": {
      "image/jpeg": "[encoded data removed]",
      "text/plain": [
       "<IPython.core.display.Image object>"
      ]
     },
     "execution_count": 8,
     "metadata": {},
     "output_type": "execute_result"
    }
   ],
   "source": [
    "from IPython.display import Image\n",
    "Image(\"Goddess_00000000.jpg\")"
   ]
  },
  {
   "cell_type": "code",
   "execution_count": 9,
   "id": "3877513a-36bf-4773-adcc-01cb632a74e4",
   "metadata": {
    "tags": []
   },
   "outputs": [],
   "source": [
    "with open(\"Goddess_00000000.jpg\", \"rb\") as f:\n",
    "    payload = f.read()\n",
    "    payload = bytearray(payload)"
   ]
  },
  {
   "cell_type": "code",
   "execution_count": 10,
   "id": "7a61a52d-bbd0-4026-882a-726a169417ab",
   "metadata": {
    "tags": []
   },
   "outputs": [],
   "source": [
    "response = inference_client.invoke_endpoint(\n",
    "    EndpointName=\"pytorch-training-2023-01-28-13-49-33-500\", ContentType=\"application/x-image\", Body=payload\n",
    ")"
   ]
  },
  {
   "cell_type": "code",
   "execution_count": 11,
   "id": "67d2e370-20a6-4ad1-be5e-055517f0531b",
   "metadata": {},
   "outputs": [
    {
     "data": {
      "text/plain": [
       "b'{\"prediction\": \"goddess\", \"confidence_score\": 0.8640827536582947}'"
      ]
     },
     "execution_count": 11,
     "metadata": {},
     "output_type": "execute_result"
    }
   ],
   "source": [
    "response['Body'].read()"
   ]
  },
  {
   "cell_type": "code",
   "execution_count": 18,
   "id": "dbed8ee7-72f0-4228-83f7-db9138d15306",
   "metadata": {},
   "outputs": [],
   "source": [
    "ten = [[-1.2333418130874634, 1.6611683368682861, -1.373233675956726, 0.3552772104740143, -0.3090381324291229]]"
   ]
  },
  {
   "cell_type": "code",
   "execution_count": null,
   "id": "5724460a-c444-421e-a44a-1e4ffe9dda35",
   "metadata": {},
   "outputs": [],
   "source": []
  }
 ],
 "metadata": {
  "instance_type": "ml.t3.medium",
  "kernelspec": {
   "display_name": "Python 3 (Data Science)",
   "language": "python",
   "name": "python3__SAGEMAKER_INTERNAL__arn:aws:sagemaker:us-east-1:081325390199:image/datascience-1.0"
  },
  "language_info": {
   "codemirror_mode": {
    "name": "ipython",
    "version": 3
   },
   "file_extension": ".py",
   "mimetype": "text/x-python",
   "name": "python",
   "nbconvert_exporter": "python",
   "pygments_lexer": "ipython3",
   "version": "3.7.10"
  }
 },
 "nbformat": 4,
 "nbformat_minor": 5
}
